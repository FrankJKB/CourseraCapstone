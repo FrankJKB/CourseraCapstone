{
 "cells": [
  {
   "cell_type": "markdown",
   "metadata": {},
   "source": [
    "# Capstone Project - The Battle of the Neighborhoods"
   ]
  },
  {
   "cell_type": "markdown",
   "metadata": {},
   "source": [
    "### Applied Data Science Capstone for the IBM Data Science Professional Certificate (Coursera) - June 2021"
   ]
  },
  {
   "cell_type": "markdown",
   "metadata": {},
   "source": [
    "## Table of Contents\n",
    "\n",
    "Introduction and Business Problem  \n",
    "Data Presentation  \n",
    "Methodology  \n",
    "Results  \n",
    "Discussion  \n",
    "Conclusion"
   ]
  },
  {
   "cell_type": "markdown",
   "metadata": {},
   "source": [
    "## Introduction and Business Problem"
   ]
  },
  {
   "cell_type": "markdown",
   "metadata": {},
   "source": [
    "In this project, we are helping a friend who lives in **Montreal** to move to another neighborhood within the city. He asked us to suggest to him a neighborhood which is relatively similar to the one he lives in now in terms of **population density and the proximity of restaurants, shops and venues**. Furthermore, he has a **budget range of \\\\$350 000 to \\\\$500 000** for his new property and he is looking for **at least 3 bedrooms**. He has been living for several years in *Côte des Neiges*, a neighborhood located in the center of Montreal's island, but needs a change. The data science tools we learned will help us narrow down the optimal neighborhoods for him, by using a clustering model."
   ]
  },
  {
   "cell_type": "markdown",
   "metadata": {},
   "source": [
    "## Data Presentation"
   ]
  },
  {
   "cell_type": "markdown",
   "metadata": {},
   "source": [
    "Three sets of data will be needed to solve the problem:  \n",
    "\n",
    "1. Demographic information about the population of Montreal by neighborhood\n",
    "2. Prices and number of rooms of properties in each neighborhood\n",
    "3. Proximity and density of venues in each neighborhood\n",
    "\n",
    "The list of Montreal's neighborhoods is found [here](https://moving2canada.com/where-to-live-in-montreal-neighbourhoods/). The demographic information is found from the last [Montreal Census data (from 2016)](http://ville.montreal.qc.ca/portal/page?_pageid=6897,68149701&_dad=portal&_schema=PORTAL). The data is already available as a .CSV file and provides the population density by neighborhood. Property prices and their number of rooms are found for properties on sale on the [duProprio website](https://duproprio.com/en/search/list?search=true&regions%5B0%5D=6&min_price=200000&max_price=500000&rooms=3~3&is_for_sale=1&with_builders=1&parent=1&pageNumber=1&sort=-published_at). The required data will be scraped from the site using the **Beautiful Soup package**. Finally, the proximity and density of venues by neighborhood is found using the **Foursquare API**. Coordinates of each neighborhood are determined from the **Google Geocoding API**. "
   ]
  },
  {
   "cell_type": "code",
   "execution_count": null,
   "metadata": {},
   "outputs": [],
   "source": []
  }
 ],
 "metadata": {
  "kernelspec": {
   "display_name": "Python 3",
   "language": "python",
   "name": "python3"
  },
  "language_info": {
   "codemirror_mode": {
    "name": "ipython",
    "version": 3
   },
   "file_extension": ".py",
   "mimetype": "text/x-python",
   "name": "python",
   "nbconvert_exporter": "python",
   "pygments_lexer": "ipython3",
   "version": "3.8.5"
  }
 },
 "nbformat": 4,
 "nbformat_minor": 4
}
